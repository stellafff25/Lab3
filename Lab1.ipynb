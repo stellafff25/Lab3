{
 "cells": [
  {
   "cell_type": "code",
   "outputs": [],
   "source": [
    "import pandas as pd\n",
    "from urllib import request\n",
    "from os import listdir, makedirs\n",
    "from shutil import rmtree\n",
    "from datetime import datetime\n"
   ],
   "metadata": {
    "collapsed": false
   },
   "id": "2c1fd99f92fe2360"
  },
  {
   "cell_type": "code",
   "outputs": [],
   "source": [
    "def open_folder(folder_path):\n",
    "    if listdir(folder_path):\n",
    "        rmtree(folder_path)\n",
    "        makedirs(folder_path)"
   ],
   "metadata": {
    "collapsed": false
   },
   "id": "5b5c6061c738251f"
  },
  {
   "cell_type": "code",
   "outputs": [],
   "source": [
    "def download_data(province_id):\n",
    "    url = f'https://www.star.nesdis.noaa.gov/smcd/emb/vci/VH/get_TS_admin.php?country=UKR&provinceID={province_id}&year1=1981&year2=2024&type=Mean'\n",
    "\n",
    "    vhi = request.urlopen(url).read().decode('utf-8')\n",
    "    now = datetime.now()\n",
    "    formatted_time = now.strftime('%d%m%Y%H%M%S')\n",
    "    with open(f'data/vhi_id_{province_id}_{formatted_time}.csv', 'w') as f:\n",
    "        f.write(vhi)"
   ],
   "metadata": {
    "collapsed": false
   },
   "id": "49888ecfc8968e0"
  },
  {
   "cell_type": "code",
   "outputs": [],
   "source": [
    "open_folder('C:/Users/Стелла/Desktop/СпецПрога/sp_lab1/data')\n",
    "for i in range(1, 28):\n",
    "    download_data(i)"
   ],
   "metadata": {
    "collapsed": true,
    "ExecuteTime": {
     "end_time": "2024-10-07T15:50:07.854197600Z",
     "start_time": "2024-10-07T15:48:42.596183700Z"
    }
   },
   "id": "initial_id",
   "execution_count": 4
  }
 ],
 "metadata": {
  "kernelspec": {
   "display_name": "Python 3",
   "language": "python",
   "name": "python3"
  },
  "language_info": {
   "codemirror_mode": {
    "name": "ipython",
    "version": 2
   },
   "file_extension": ".py",
   "mimetype": "text/x-python",
   "name": "python",
   "nbconvert_exporter": "python",
   "pygments_lexer": "ipython2",
   "version": "2.7.6"
  }
 },
 "nbformat": 4,
 "nbformat_minor": 5
}
